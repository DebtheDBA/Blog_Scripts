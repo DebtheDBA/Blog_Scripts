{
    "metadata": {
        "kernelspec": {
            "name": "SQL",
            "display_name": "SQL",
            "language": "sql"
        },
        "language_info": {
            "name": "sql",
            "version": ""
        }
    },
    "nbformat_minor": 2,
    "nbformat": 4,
    "cells": [
        {
            "cell_type": "markdown",
            "source": [
                "# Dynamic SQL and Sessions \n",
                "\n",
                "This notebook goes along with my blog post:"
            ],
            "metadata": {
                "azdata_cell_guid": "7508c329-f37f-4bde-a850-9f5a15e777ba"
            },
            "attachments": {}
        },
        {
            "cell_type": "markdown",
            "source": [
                "## Example 1:\n",
                "\n",
                "Compare how sp\\_executesql works as opposed to xp\\_cmdshell"
            ],
            "metadata": {
                "azdata_cell_guid": "25366f74-e94a-48bf-bc0a-a1af0b4ff1fb"
            },
            "attachments": {}
        },
        {
            "cell_type": "code",
            "source": [
                "SET NOCOUNT ON"
            ],
            "metadata": {
                "language": "sql",
                "azdata_cell_guid": "0a10b516-4a7d-40cf-bfa9-7ada16ef3a50"
            },
            "outputs": [
                {
                    "output_type": "display_data",
                    "data": {
                        "text/html": "Commands completed successfully."
                    },
                    "metadata": {}
                },
                {
                    "output_type": "display_data",
                    "data": {
                        "text/html": "Total execution time: 00:00:00.001"
                    },
                    "metadata": {}
                }
            ],
            "execution_count": 10
        },
        {
            "cell_type": "code",
            "source": [
                "SELECT @@SPID as SpidFromBatch\r\n",
                "\r\n",
                "DECLARE @Sql NVARCHAR(MAX) = 'SELECT @@SPID as SpidFromDynamicSQL'\r\n",
                "EXEC sys.sp_executesql @Sql\r\n",
                "\r\n",
                "EXEC master..xp_cmdshell 'sqlcmd -S\"localhost\\sql2019\" -Q\"SELECT @@SPID as SpidFromSQLCmd\"'"
            ],
            "metadata": {
                "azdata_cell_guid": "60fedae4-2c0b-4366-8e7e-8ce91a54ca22",
                "language": "sql"
            },
            "outputs": [
                {
                    "output_type": "display_data",
                    "data": {
                        "text/html": "Commands completed successfully."
                    },
                    "metadata": {}
                },
                {
                    "output_type": "display_data",
                    "data": {
                        "text/html": "Total execution time: 00:00:00.111"
                    },
                    "metadata": {}
                },
                {
                    "output_type": "execute_result",
                    "metadata": {},
                    "execution_count": 11,
                    "data": {
                        "application/vnd.dataresource+json": {
                            "schema": {
                                "fields": [
                                    {
                                        "name": "SpidFromBatch"
                                    }
                                ]
                            },
                            "data": [
                                {
                                    "0": "82"
                                }
                            ]
                        },
                        "text/html": [
                            "<table>",
                            "<tr><th>SpidFromBatch</th></tr>",
                            "<tr><td>82</td></tr>",
                            "</table>"
                        ]
                    }
                },
                {
                    "output_type": "execute_result",
                    "metadata": {},
                    "execution_count": 11,
                    "data": {
                        "application/vnd.dataresource+json": {
                            "schema": {
                                "fields": [
                                    {
                                        "name": "SpidFromDynamicSQL"
                                    }
                                ]
                            },
                            "data": [
                                {
                                    "0": "82"
                                }
                            ]
                        },
                        "text/html": [
                            "<table>",
                            "<tr><th>SpidFromDynamicSQL</th></tr>",
                            "<tr><td>82</td></tr>",
                            "</table>"
                        ]
                    }
                },
                {
                    "output_type": "execute_result",
                    "metadata": {},
                    "execution_count": 11,
                    "data": {
                        "application/vnd.dataresource+json": {
                            "schema": {
                                "fields": [
                                    {
                                        "name": "output"
                                    }
                                ]
                            },
                            "data": [
                                {
                                    "0": "SpidFromSQLCmd"
                                },
                                {
                                    "0": "--------------"
                                },
                                {
                                    "0": "            74"
                                },
                                {
                                    "0": "NULL"
                                },
                                {
                                    "0": "(1 rows affected)"
                                },
                                {
                                    "0": "NULL"
                                }
                            ]
                        },
                        "text/html": [
                            "<table>",
                            "<tr><th>output</th></tr>",
                            "<tr><td>SpidFromSQLCmd</td></tr>",
                            "<tr><td>--------------</td></tr>",
                            "<tr><td>            74</td></tr>",
                            "<tr><td>NULL</td></tr>",
                            "<tr><td>(1 rows affected)</td></tr>",
                            "<tr><td>NULL</td></tr>",
                            "</table>"
                        ]
                    }
                }
            ],
            "execution_count": 11
        },
        {
            "cell_type": "markdown",
            "source": [
                "## Example 2:\n",
                "\n",
                "Show how dynamic SQL works with temp tables and variables"
            ],
            "metadata": {
                "language": "sql",
                "azdata_cell_guid": "df937ca4-387c-4ca1-bdfa-c8922ea43e75"
            },
            "attachments": {}
        },
        {
            "cell_type": "code",
            "source": [
                "DROP TABLE IF EXISTS #Test\r\n",
                "/* Use this temp table for the examples */\r\n",
                "CREATE TABLE #Test\r\n",
                "(ID int IDENTITY(1,1),\r\n",
                "SampleValue varchar(50))\r\n",
                ""
            ],
            "metadata": {
                "language": "sql",
                "azdata_cell_guid": "3f5e8ef3-f103-4ddf-8ce5-13765125c55c"
            },
            "outputs": [
                {
                    "output_type": "display_data",
                    "data": {
                        "text/html": "Commands completed successfully."
                    },
                    "metadata": {}
                },
                {
                    "output_type": "display_data",
                    "data": {
                        "text/html": "Total execution time: 00:00:00.007"
                    },
                    "metadata": {}
                }
            ],
            "execution_count": 12
        },
        {
            "cell_type": "code",
            "source": [
                "/* How I usually think of doing the statements */\r\n",
                "DECLARE @Sql nvarchar(100)\r\n",
                "\r\n",
                "SELECT @Sql = 'SELECT ''TestValue from standalone dynamic statement'' as TestValue'\r\n",
                "\r\n",
                "INSERT INTO #Test (SampleValue)\r\n",
                "EXEC sp_executesql @Sql\r\n",
                "\r\n",
                "SELECT * FROM #Test"
            ],
            "metadata": {
                "language": "sql",
                "azdata_cell_guid": "27684c30-7369-4ca7-9ca1-307ae1453e1e"
            },
            "outputs": [
                {
                    "output_type": "display_data",
                    "data": {
                        "text/html": "Commands completed successfully."
                    },
                    "metadata": {}
                },
                {
                    "output_type": "display_data",
                    "data": {
                        "text/html": "Total execution time: 00:00:00.012"
                    },
                    "metadata": {}
                },
                {
                    "output_type": "execute_result",
                    "metadata": {},
                    "execution_count": 13,
                    "data": {
                        "application/vnd.dataresource+json": {
                            "schema": {
                                "fields": [
                                    {
                                        "name": "ID"
                                    },
                                    {
                                        "name": "SampleValue"
                                    }
                                ]
                            },
                            "data": [
                                {
                                    "0": "1",
                                    "1": "TestValue from standalone dynamic statement"
                                }
                            ]
                        },
                        "text/html": [
                            "<table>",
                            "<tr><th>ID</th><th>SampleValue</th></tr>",
                            "<tr><td>1</td><td>TestValue from standalone dynamic statement</td></tr>",
                            "</table>"
                        ]
                    }
                }
            ],
            "execution_count": 13
        },
        {
            "cell_type": "code",
            "source": [
                "/* How I can think of doing the statements */\r\n",
                "DECLARE @Sql nvarchar(100)\r\n",
                "\r\n",
                "SELECT @Sql = '\r\n",
                "INSERT INTO #Test (SampleValue)\r\n",
                "SELECT ''TestValue from combined dynamic statement'' as TestValue'\r\n",
                "\r\n",
                "EXEC sp_executesql @Sql\r\n",
                "\r\n",
                "SELECT * FROM #Test"
            ],
            "metadata": {
                "language": "sql",
                "azdata_cell_guid": "f2b6e53d-df5e-4506-b080-c1cbab7e54c0"
            },
            "outputs": [
                {
                    "output_type": "display_data",
                    "data": {
                        "text/html": "Commands completed successfully."
                    },
                    "metadata": {}
                },
                {
                    "output_type": "display_data",
                    "data": {
                        "text/html": "Total execution time: 00:00:00.006"
                    },
                    "metadata": {}
                },
                {
                    "output_type": "execute_result",
                    "metadata": {},
                    "execution_count": 14,
                    "data": {
                        "application/vnd.dataresource+json": {
                            "schema": {
                                "fields": [
                                    {
                                        "name": "ID"
                                    },
                                    {
                                        "name": "SampleValue"
                                    }
                                ]
                            },
                            "data": [
                                {
                                    "0": "1",
                                    "1": "TestValue from standalone dynamic statement"
                                },
                                {
                                    "0": "2",
                                    "1": "TestValue from combined dynamic statement"
                                }
                            ]
                        },
                        "text/html": [
                            "<table>",
                            "<tr><th>ID</th><th>SampleValue</th></tr>",
                            "<tr><td>1</td><td>TestValue from standalone dynamic statement</td></tr>",
                            "<tr><td>2</td><td>TestValue from combined dynamic statement</td></tr>",
                            "</table>"
                        ]
                    }
                }
            ],
            "execution_count": 14
        }
    ]
}