{
 "metadata": {
  "kernelspec": {
   "display_name": ".NET (C#)",
   "language": "C#",
   "name": ".net-csharp"
  },
  "language_info": {
   "name": "C#"
  }
 },
 "cells": [
  {
   "cell_type": "markdown",
   "source": [
    "A SQL connection has not been established.\r\n",
    "\r\n",
    "To connect to a database, first add the SQL extension package by running the following in a C# cell:\r\n",
    "\r\n",
    "    #r \"nuget:Microsoft.DotNet.Interactive.SqlServer,*-*\"\r\n",
    "    \r\n",
    "Now, you can connect to a Microsoft SQL Server database by running the following in a C# cell:\r\n",
    "    #!connect mssql --kernel-name mydatabase \"Persist Security Info=False; Integrated Security=true; Initial Catalog=MyDatabase; Server=localhost\"\r\n",
    "    \r\n",
    "Once a connection is established, you can send SQL statements by prefixing them with the magic command for your connection.\r\n",
    "\r\n",
    "    #!sql-mydatabase\r\n",
    "    SELECT * FROM MyDatabase.MyTable\r\n",
    "    "
   ],
   "metadata": {}
  },
  {
   "cell_type": "code",
   "execution_count": null,
   "source": [
    "#r \"nuget:Microsoft.DotNet.Interactive.SqlServer,*-*\""
   ],
   "outputs": [
    {
     "data": {
      "text/html": [
       "<div><div></div><div></div><div><strong>Installed Packages</strong><ul><li><span>Microsoft.DotNet.Interactive.SqlServer, 1.0.0-beta.21459.1</span></li></ul></div></div>"
      ]
     },
     "metadata": {},
     "output_type": "display_data"
    },
    {
     "data": {
      "text/markdown": [
       "Loading extensions from `Microsoft.DotNet.Interactive.ExtensionLab.dll`"
      ]
     },
     "metadata": {},
     "output_type": "display_data"
    },
    {
     "data": {
      "text/html": [
       "<details><summary>Create strongly-typed dataframes using<code>#!linqify</code>.</summary>\r\n",
       "    <p>The <code>#!linqify</code> magic command replaces a <a href=\"https://www.nuget.org/packages/Microsoft.Data.Analysis/\"><code>Microsoft.Data.Analysis.DataFrame</code></a> variable with a generated, strongly-typed data frame, allowing the use of LINQ operations over the contained data.</p>\r\n",
       "    </details>"
      ]
     },
     "metadata": {},
     "output_type": "display_data"
    },
    {
     "data": {
      "text/html": [
       "<details><summary>Inspect code compilation details using the <code>#!inspect</code> magic command.</summary>\r\n",
       "    <p>The <code>#!inspect</code> magic command allows you to see the C# decompilation, IL, and JIT Asm for the code in a C# cell.</p>\r\n",
       "    <img src=\"https://user-images.githubusercontent.com/547415/109560515-d5749a00-7a90-11eb-9fa3-51b737345bb4.png\" width=\"75%\" />\r\n",
       "    </details>"
      ]
     },
     "metadata": {},
     "output_type": "display_data"
    },
    {
     "data": {
      "text/html": [
       "<details><summary>Explain things visually using the <a href=\"https://mermaid-js.github.io/mermaid/\">Mermaid language</a>.</summary>\r\n",
       "    <p>This extension adds a new kernel that can render Mermaid markdown. This code will render a sequence diagram:</p>\r\n",
       "<pre>\r\n",
       "    <code>\r\n",
       "#!mermaid\r\n",
       "sequenceDiagram\r\n",
       "    participant Alice\r\n",
       "    participant Bob\r\n",
       "    Alice->>John: Hello John, how are you?\r\n",
       "    loop Healthcheck\r\n",
       "        John->>John: Fight against hypochondria\r\n",
       "    end\r\n",
       "    Note right of John: Rational thoughts prevail!\r\n",
       "    John-->>Alice: Great!\r\n",
       "    John->>Bob: How about you?\r\n",
       "    Bob-->>John: Jolly good!\r\n",
       "    </code>\r\n",
       "</pre>\r\n",
       "<p>This extension also adds gestures to render a class diagram from any type. Use the <code>ExploreWithUmlClassDiagram().Display();</code> extension method on <code>System.Type</code> to render its class diagram.</p>\r\n",
       "\r\n",
       "<pre>\r\n",
       "    <code>\r\n",
       "typeof(List&lt;string&gt;).ExploreWithUmlClassDiagram().Display();\r\n",
       "    </code>\r\n",
       "</pre>\r\n",
       "    <img src=\"https://mermaid-js.github.io/mermaid/img/header.png\" width=\"30%\">\r\n",
       "    </details>"
      ]
     },
     "metadata": {},
     "output_type": "display_data"
    },
    {
     "data": {
      "text/markdown": [
       "Loading extensions from `Microsoft.Data.Analysis.Interactive.dll`"
      ]
     },
     "metadata": {},
     "output_type": "display_data"
    },
    {
     "data": {
      "text/markdown": [
       "Loading extensions from `Microsoft.DotNet.Interactive.SqlServer.dll`"
      ]
     },
     "metadata": {},
     "output_type": "display_data"
    },
    {
     "data": {
      "text/html": [
       "<details><summary>Query Microsoft SQL Server databases.</summary>\r\n",
       "    <p>This extension adds support for connecting to Microsoft SQL Server databases using the <code>#!connect mssql</code> magic command. For more information, run a cell using the <code>#!sql</code> magic command.</p>\r\n",
       "    </details>"
      ]
     },
     "metadata": {},
     "output_type": "display_data"
    },
    {
     "data": {
      "text/html": [
       "<details><summary>Explore data visually using the <a href=\"https://github.com/nteract/data-explorer\">nteract Data Explorer</a>.</summary>\r\n",
       "    <p>This extension adds the ability to sort, filter, and visualize data using the <a href=\"https://github.com/nteract/data-explorer\">nteract Data Explorer</a>. Use the <code>ExploreWithNteract()</code> extension method with variables of type <code>JsonElement</code>, <code>IEnumerable<T></code> or <code>IDataView</code> to render the data explorer.</p>\r\n",
       "<pre>\r\n",
       "    <code>\r\n",
       "    using Microsoft.Data.Analysis;\r\n",
       "    using System.Collections.Generic;\r\n",
       "    using Microsoft.ML;\r\n",
       "\r\n",
       "    var dataFrame = DataFrame.LoadCsv(\"./Data.csv\");\r\n",
       "\r\n",
       "    dataFrame.ExploreWithNteract().Display();\r\n",
       "    </code>\r\n",
       "</pre>\r\n",
       "    <img src=\"https://user-images.githubusercontent.com/547415/109559345-621e5880-7a8f-11eb-8b98-d4feeaac116f.png\" width=\"75%\">\r\n",
       "    </details>"
      ]
     },
     "metadata": {},
     "output_type": "display_data"
    },
    {
     "data": {
      "text/html": [
       "<details><summary>Use the <code>#!record</code> magic command to keep a transcript of the code you run.</summary>\r\n",
       "    <p>Once you enable transcripts using <code>#!record</code>, each code submission (including re-running cells) is recorded in the specified file. The JSON format used is the same format recognized by the .NET Interactive <code>stdio</code> and <code>http</code> APIs and can be used to replay an interactive session via automation.</p>\r\n",
       "    <img src=\"https://user-images.githubusercontent.com/547415/109562409-343b1300-7a93-11eb-8ebf-79bb6af028cf.png\" width=\"75%\" />\r\n",
       "    </details>"
      ]
     },
     "metadata": {},
     "output_type": "display_data"
    },
    {
     "data": {
      "text/html": [
       "<details><summary>Explore data visually using the <a href=\"https://github.com/microsoft/SandDance\">SandDance Explorer</a>.</summary>\r\n",
       "    <p>This extension adds the ability to sort, filter, and visualize data using the <a href=\"https://github.com/microsoft/SandDance\">SandDance Explorer</a>. Use the <code>ExploreWithSandDance()</code> extension method with variables of type <code>JsonElement</code>, <code>IEnumerable<T></code> or <code>IDataView</code> to render the data explorer.</p>\r\n",
       "<pre>\r\n",
       "    <code>\r\n",
       "    using Microsoft.Data.Analysis;\r\n",
       "    using System.Collections.Generic;\r\n",
       "    using Microsoft.ML;\r\n",
       "\r\n",
       "    var dataFrame = DataFrame.LoadCsv(\"./Data.csv\");\r\n",
       "\r\n",
       "    dataFrame.ExploreWithSandDance().Display();\r\n",
       "    </code>\r\n",
       "</pre>\r\n",
       "    <img src=\"https://user-images.githubusercontent.com/11507384/54236654-52d42800-44d1-11e9-859e-6c5d297a46d2.gif\" width=\"30%\">\r\n",
       "    </details>"
      ]
     },
     "metadata": {},
     "output_type": "display_data"
    },
    {
     "data": {
      "text/html": [
       "<details><summary>Query SQLite databases.</summary>\r\n",
       "    <p>This extension adds support for connecting to SQLite databases using the <code>#!connect sqlite</code> magic command. For more information, run a cell using the <code>#!sql</code> magic command.</p>\r\n",
       "    </details>"
      ]
     },
     "metadata": {},
     "output_type": "display_data"
    }
   ],
   "metadata": {
    "dotnet_interactive": {
     "language": "csharp"
    }
   }
  },
  {
   "cell_type": "code",
   "execution_count": null,
   "source": [
    "#!connect mssql --kernel-name mydatabase \"Persist Security Info=False; Integrated Security=true; Initial Catalog=superheroes; Server=\""
   ],
   "outputs": [
    {
     "data": {
      "text/plain": [
       "Kernel added: #!sql-mydatabase"
      ]
     },
     "metadata": {},
     "output_type": "display_data"
    }
   ],
   "metadata": {
    "dotnet_interactive": {
     "language": "csharp"
    }
   }
  },
  {
   "cell_type": "code",
   "execution_count": null,
   "source": [
    "#!sql-mydatabase\r\n",
    "SELECT *  FROM dbo.Alter_Ego"
   ],
   "outputs": [
    {
     "data": {
      "text/html": [
       "<div style=\"background-color:white;\">\r\n",
       "<div id=\"e46b746c2fec4173bad4d3ac72d56093\" style=\"height: 100ch ;margin: 2px;\">\r\n",
       "</div>\r\n",
       "<script type=\"text/javascript\">\r\n",
       "\r\n",
       "let renderNteractDataExplorer_e46b746c2fec4173bad4d3ac72d56093 = () => {\r\n",
       "\r\n",
       "    configureRequireFromExtension('nteract','1.0.0')(['nteract/nteractapi'], (nteract) => {\r\n",
       "\r\n",
       "        nteract.createDataExplorer({\r\n",
       "            data: {\r\n",
       "  \"profile\": \"tabular-data-resource\",\r\n",
       "  \"schema\": {\r\n",
       "    \"primaryKey\": [],\r\n",
       "    \"fields\": [\r\n",
       "      {\r\n",
       "        \"name\": \"Alter_Ego_ID\",\r\n",
       "        \"type\": \"integer\"\r\n",
       "      },\r\n",
       "      {\r\n",
       "        \"name\": \"Alter_Ego_Name\",\r\n",
       "        \"type\": \"string\"\r\n",
       "      },\r\n",
       "      {\r\n",
       "        \"name\": \"Comic_Universe_ID\",\r\n",
       "        \"type\": \"integer\"\r\n",
       "      }\r\n",
       "    ]\r\n",
       "  },\r\n",
       "  \"data\": [\r\n",
       "    {\r\n",
       "      \"Alter_Ego_ID\": 1,\r\n",
       "      \"Alter_Ego_Name\": \"Average Citizen\",\r\n",
       "      \"Comic_Universe_ID\": 1\r\n",
       "    },\r\n",
       "    {\r\n",
       "      \"Alter_Ego_ID\": 2,\r\n",
       "      \"Alter_Ego_Name\": \"Black Widow\",\r\n",
       "      \"Comic_Universe_ID\": 2\r\n",
       "    },\r\n",
       "    {\r\n",
       "      \"Alter_Ego_ID\": 3,\r\n",
       "      \"Alter_Ego_Name\": \"Spider Girl\",\r\n",
       "      \"Comic_Universe_ID\": 2\r\n",
       "    },\r\n",
       "    {\r\n",
       "      \"Alter_Ego_ID\": 5,\r\n",
       "      \"Alter_Ego_Name\": \"Catwoman\",\r\n",
       "      \"Comic_Universe_ID\": 3\r\n",
       "    },\r\n",
       "    {\r\n",
       "      \"Alter_Ego_ID\": 6,\r\n",
       "      \"Alter_Ego_Name\": \"Super Girl\",\r\n",
       "      \"Comic_Universe_ID\": 3\r\n",
       "    },\r\n",
       "    {\r\n",
       "      \"Alter_Ego_ID\": 7,\r\n",
       "      \"Alter_Ego_Name\": \"Wonder Woman\",\r\n",
       "      \"Comic_Universe_ID\": 3\r\n",
       "    },\r\n",
       "    {\r\n",
       "      \"Alter_Ego_ID\": 8,\r\n",
       "      \"Alter_Ego_Name\": \"Storm\",\r\n",
       "      \"Comic_Universe_ID\": 2\r\n",
       "    }\r\n",
       "  ]\r\n",
       "},\r\n",
       "            container: document.getElementById(\"e46b746c2fec4173bad4d3ac72d56093\")\r\n",
       "        });\r\n",
       "    },\r\n",
       "    (error) => {\r\n",
       "        console.log(error);\r\n",
       "    });\r\n",
       "};\r\n",
       "// ensure `require` is available globally\r\n",
       "if ((typeof(require) !==  typeof(Function)) || (typeof(require.config) !== typeof(Function))) {\r\n",
       "    let require_script = document.createElement('script');\r\n",
       "    require_script.setAttribute('src', 'https://cdnjs.cloudflare.com/ajax/libs/require.js/2.3.6/require.min.js');\r\n",
       "    require_script.setAttribute('type', 'text/javascript');\r\n",
       "    \r\n",
       "    \r\n",
       "    require_script.onload = function() {\r\n",
       "        renderNteractDataExplorer_e46b746c2fec4173bad4d3ac72d56093();\r\n",
       "    };\r\n",
       "\r\n",
       "    document.getElementsByTagName('head')[0].appendChild(require_script);\r\n",
       "}\r\n",
       "else {\r\n",
       "    renderNteractDataExplorer_e46b746c2fec4173bad4d3ac72d56093();\r\n",
       "}\r\n",
       "\r\n",
       " </script>\r\n",
       "</div>\r\n"
      ]
     },
     "metadata": {},
     "output_type": "display_data"
    }
   ],
   "metadata": {
    "dotnet_interactive": {
     "language": "sql"
    }
   }
  }
 ],
 "nbformat": 4,
 "nbformat_minor": 2
}