{
    "metadata": {
        "kernelspec": {
            "name": "SQL",
            "display_name": "SQL",
            "language": "sql"
        },
        "language_info": {
            "name": "sql",
            "version": ""
        }
    },
    "nbformat_minor": 2,
    "nbformat": 4,
    "cells": [
        {
            "cell_type": "markdown",
            "source": [
                "_* These examples are created by Deb the DBA for her blog post, Working with Synonyms._"
            ],
            "metadata": {
                "azdata_cell_guid": "69f5d4b1-d422-4f70-b9bc-21f857b6e679"
            }
        },
        {
            "cell_type": "markdown",
            "source": [
                "## Scenario One:\r\n",
                "Create synonym for non-existing object "
            ],
            "metadata": {
                "azdata_cell_guid": "414736c5-6d9f-42e7-8f91-da224e973f68"
            }
        },
        {
            "cell_type": "markdown",
            "source": [
                "1. Confirm none of the objects exist:"
            ],
            "metadata": {
                "azdata_cell_guid": "f7ba8e70-cfd3-40eb-8e76-60d667dfe2a2"
            }
        },
        {
            "cell_type": "code",
            "source": [
                "IF EXISTS (SELECT * FROM sys.synonyms WHERE name = 'NonexistingObject')\r\n",
                "DROP SYNONYM NonexistingObject;\r\n",
                "\r\n",
                "IF EXISTS (SELECT * FROM sys.objects WHERE name = 'NonexistingObject')\r\n",
                "DROP TABLE NonexistingObject;\r\n",
                "GO"
            ],
            "metadata": {
                "azdata_cell_guid": "0ce5b3c2-fafd-4770-ac01-cd95c8d2d172"
            },
            "outputs": [
                {
                    "output_type": "display_data",
                    "data": {
                        "text/html": "Commands completed successfully."
                    },
                    "metadata": {}
                },
                {
                    "output_type": "display_data",
                    "data": {
                        "text/html": "Total execution time: 00:00:00.015"
                    },
                    "metadata": {}
                }
            ],
            "execution_count": 2
        },
        {
            "cell_type": "markdown",
            "source": [
                "2. Create the synonym for the non existing table:"
            ],
            "metadata": {
                "azdata_cell_guid": "203ddcd4-70d2-4d28-9e56-41cb22e9e64b"
            }
        },
        {
            "cell_type": "code",
            "source": [
                "CREATE SYNONYM NonexistingObject FOR dbo.NonexistingObject;"
            ],
            "metadata": {
                "azdata_cell_guid": "609ab173-3262-451b-a094-f8ef41c7018f"
            },
            "outputs": [
                {
                    "output_type": "display_data",
                    "data": {
                        "text/html": "Commands completed successfully."
                    },
                    "metadata": {}
                },
                {
                    "output_type": "display_data",
                    "data": {
                        "text/html": "Total execution time: 00:00:00.005"
                    },
                    "metadata": {}
                }
            ],
            "execution_count": 3
        },
        {
            "cell_type": "markdown",
            "source": [
                "3. Select from the synonym:"
            ],
            "metadata": {
                "azdata_cell_guid": "3b3f31bb-4f1e-4032-99e8-6bcc1ecf502d"
            }
        },
        {
            "cell_type": "code",
            "source": [
                "SELECT * FROM NonexistingObject;"
            ],
            "metadata": {
                "azdata_cell_guid": "0368fce0-8d86-4701-ad99-0eb2c4f96ad9"
            },
            "outputs": [
                {
                    "output_type": "error",
                    "ename": "",
                    "evalue": "Msg 470, Level 16, State 1, Line 1\r\nThe synonym \"NonexistingObject\" referenced synonym \"dbo.NonexistingObject\". Synonym chaining is not allowed.",
                    "traceback": []
                },
                {
                    "output_type": "display_data",
                    "data": {
                        "text/html": "Total execution time: 00:00:00.005"
                    },
                    "metadata": {}
                }
            ],
            "execution_count": 4
        },
        {
            "cell_type": "markdown",
            "source": [
                "4. Now create the underlying table:"
            ],
            "metadata": {
                "azdata_cell_guid": "0d5894b0-241a-4542-9e08-f1a68dbf85ca"
            }
        },
        {
            "cell_type": "code",
            "source": [
                "CREATE TABLE dbo.NonexistingObject\r\n",
                "\t(PrimaryKeyCol\tint IDENTITY(1,1) NOT NULL\r\n",
                "\t\tCONSTRAINT pk_NonexistingObject PRIMARY KEY CLUSTERED,\r\n",
                "\tFakeColumnOne\t\tvarchar(10)\tNOT NULL,\r\n",
                "\tAnotherFakeColumn\tvarchar(10)\tNULL\r\n",
                "\t);\r\n",
                "GO\r\n",
                ""
            ],
            "metadata": {
                "azdata_cell_guid": "3190cb6b-1492-4613-8b2e-f791563c5efa",
                "tags": []
            },
            "outputs": [
                {
                    "output_type": "error",
                    "ename": "",
                    "evalue": "Msg 2714, Level 16, State 6, Line 1\r\nThere is already an object named 'NonexistingObject' in the database.",
                    "traceback": []
                },
                {
                    "output_type": "display_data",
                    "data": {
                        "text/html": "Total execution time: 00:00:00.007"
                    },
                    "metadata": {}
                }
            ],
            "execution_count": 5
        },
        {
            "cell_type": "markdown",
            "source": [
                "You can't have two objects in the same schema with the same name - even if they're different object types. So let's reset for our second scenario,"
            ],
            "metadata": {
                "azdata_cell_guid": "4bae514f-508d-479d-9a23-a655e8f4db46"
            }
        },
        {
            "cell_type": "code",
            "source": [
                "IF EXISTS (SELECT * FROM sys.synonyms WHERE name = 'NonexistingObject')\r\n",
                "DROP SYNONYM NonexistingObject;\r\n",
                "\r\n",
                "IF EXISTS (SELECT * FROM sys.objects WHERE name = 'NonexistingObject')\r\n",
                "DROP TABLE NonexistingObject;\r\n",
                "GO"
            ],
            "metadata": {
                "azdata_cell_guid": "8ab9bf0c-b385-47fa-9de2-b636173bba9d",
                "tags": []
            },
            "outputs": [
                {
                    "output_type": "display_data",
                    "data": {
                        "text/html": "Commands completed successfully."
                    },
                    "metadata": {}
                },
                {
                    "output_type": "display_data",
                    "data": {
                        "text/html": "Total execution time: 00:00:00.022"
                    },
                    "metadata": {}
                }
            ],
            "execution_count": 6
        },
        {
            "cell_type": "markdown",
            "source": [
                "## Scenario Two:\r\n",
                "Same as the first but setting up with different names"
            ],
            "metadata": {
                "azdata_cell_guid": "44e24b85-0007-451f-8c92-8f5538d31e81"
            }
        },
        {
            "cell_type": "markdown",
            "source": [
                "1. Confirm that the objcts don't exist"
            ],
            "metadata": {
                "azdata_cell_guid": "a75dbc1c-d0ba-4d38-a145-0cf69cb6069c"
            }
        },
        {
            "cell_type": "code",
            "source": [
                "IF EXISTS (SELECT * FROM sys.objects WHERE name = 'NonexistingTable')\r\n",
                "DROP TABLE dbo.NonexistingTable;\r\n",
                "\r\n",
                "IF EXISTS (SELECT * FROM sys.synonyms WHERE name = 'NonexistingSynonym')\r\n",
                "DROP SYNONYM NonexistingSynonym;"
            ],
            "metadata": {
                "azdata_cell_guid": "19cb2ab9-4053-4b31-b06f-7431fab8cf8e",
                "tags": []
            },
            "outputs": [
                {
                    "output_type": "display_data",
                    "data": {
                        "text/html": "Commands completed successfully."
                    },
                    "metadata": {}
                },
                {
                    "output_type": "display_data",
                    "data": {
                        "text/html": "Total execution time: 00:00:00.022"
                    },
                    "metadata": {}
                }
            ],
            "execution_count": 7
        },
        {
            "cell_type": "markdown",
            "source": [
                "2. Create synonym for non existing table:"
            ],
            "metadata": {
                "azdata_cell_guid": "455284e0-25ed-4596-a4be-c0906a60b1ba"
            }
        },
        {
            "cell_type": "code",
            "source": [
                "IF NOT EXISTS (SELECT * FROM sys.synonyms WHERE name = 'NonexistingSynonym')\r\n",
                "CREATE SYNONYM NonexistingSynonym FOR dbo.NonexistingTable;"
            ],
            "metadata": {
                "azdata_cell_guid": "f3baaf2f-f224-4182-adcb-53a4fb07a5ad",
                "tags": []
            },
            "outputs": [
                {
                    "output_type": "display_data",
                    "data": {
                        "text/html": "Commands completed successfully."
                    },
                    "metadata": {}
                },
                {
                    "output_type": "display_data",
                    "data": {
                        "text/html": "Total execution time: 00:00:00.011"
                    },
                    "metadata": {}
                }
            ],
            "execution_count": 8
        },
        {
            "cell_type": "markdown",
            "source": [
                "3. Select from the synonym:"
            ],
            "metadata": {
                "azdata_cell_guid": "2bb4c708-e2d3-4018-98e9-eb2c9e91baa5"
            }
        },
        {
            "cell_type": "code",
            "source": [
                "SELECT * FROM NonexistingSynonym;"
            ],
            "metadata": {
                "azdata_cell_guid": "9ff94b90-77fc-43e4-95ae-9ca5eea617e1"
            },
            "outputs": [
                {
                    "output_type": "error",
                    "ename": "",
                    "evalue": "Msg 5313, Level 16, State 1, Line 1\r\nSynonym 'NonexistingSynonym' refers to an invalid object.",
                    "traceback": []
                },
                {
                    "output_type": "display_data",
                    "data": {
                        "text/html": "Total execution time: 00:00:00.002"
                    },
                    "metadata": {}
                }
            ],
            "execution_count": 9
        },
        {
            "cell_type": "markdown",
            "source": [
                "4. Now create the table:"
            ],
            "metadata": {
                "azdata_cell_guid": "4c7ed904-971f-4698-b047-942e3c740e64"
            }
        },
        {
            "cell_type": "code",
            "source": [
                "CREATE TABLE dbo.NonexistingTable\r\n",
                "\t(PrimaryKeyCol\tint IDENTITY(1,1) NOT NULL\r\n",
                "\t\tCONSTRAINT pk_NonexistingTable PRIMARY KEY CLUSTERED,\r\n",
                "\tFakeColumnOne\t\tvarchar(10)\tNOT NULL,\r\n",
                "\tAnotherFakeColumn\tvarchar(10)\tNULL\r\n",
                "\t)\r\n",
                ";"
            ],
            "metadata": {
                "azdata_cell_guid": "33e7ff88-a3ce-409d-a1cc-7a0c82e1f492"
            },
            "outputs": [
                {
                    "output_type": "display_data",
                    "data": {
                        "text/html": "Commands completed successfully."
                    },
                    "metadata": {}
                },
                {
                    "output_type": "display_data",
                    "data": {
                        "text/html": "Total execution time: 00:00:00.005"
                    },
                    "metadata": {}
                }
            ],
            "execution_count": 10
        },
        {
            "cell_type": "markdown",
            "source": [
                "5. Select from the synonym:"
            ],
            "metadata": {
                "azdata_cell_guid": "739011e4-b22e-411b-854c-4b359037d077"
            }
        },
        {
            "cell_type": "code",
            "source": [
                "SELECT * FROM NonexistingSynonym;"
            ],
            "metadata": {
                "azdata_cell_guid": "2eab1398-a01c-4503-8bd8-70d72c97e319"
            },
            "outputs": [
                {
                    "output_type": "display_data",
                    "data": {
                        "text/html": "(0 rows affected)"
                    },
                    "metadata": {}
                },
                {
                    "output_type": "display_data",
                    "data": {
                        "text/html": "Total execution time: 00:00:00.077"
                    },
                    "metadata": {}
                },
                {
                    "output_type": "execute_result",
                    "execution_count": 11,
                    "data": {
                        "application/vnd.dataresource+json": {
                            "schema": {
                                "fields": [
                                    {
                                        "name": "PrimaryKeyCol"
                                    },
                                    {
                                        "name": "FakeColumnOne"
                                    },
                                    {
                                        "name": "AnotherFakeColumn"
                                    }
                                ]
                            },
                            "data": []
                        },
                        "text/html": "<table><tr><th>PrimaryKeyCol</th><th>FakeColumnOne</th><th>AnotherFakeColumn</th></tr></table>"
                    },
                    "metadata": {}
                }
            ],
            "execution_count": 11
        },
        {
            "cell_type": "markdown",
            "source": [
                "6. Now what happens if we modify the table:"
            ],
            "metadata": {
                "azdata_cell_guid": "71436c92-19c7-49a0-a43d-84f54f7cc98d"
            }
        },
        {
            "cell_type": "code",
            "source": [
                "ALTER TABLE dbo.NonexistingTable\r\n",
                "ADD YetAnotherColumn\tvarchar(10) NULL;"
            ],
            "metadata": {
                "azdata_cell_guid": "9a768879-e5fd-4e0f-8d45-34ba069e5fe3",
                "tags": []
            },
            "outputs": [
                {
                    "output_type": "display_data",
                    "data": {
                        "text/html": "Commands completed successfully."
                    },
                    "metadata": {}
                },
                {
                    "output_type": "display_data",
                    "data": {
                        "text/html": "Total execution time: 00:00:00.092"
                    },
                    "metadata": {}
                }
            ],
            "execution_count": 12
        },
        {
            "cell_type": "markdown",
            "source": [
                "7. Select from the synonym:"
            ],
            "metadata": {
                "azdata_cell_guid": "c491dcd9-315a-4872-80f6-85deb4a9dcaa"
            }
        },
        {
            "cell_type": "code",
            "source": [
                "SELECT * FROM NonexistingSynonym;"
            ],
            "metadata": {
                "azdata_cell_guid": "5cc266a6-0132-461c-9d25-bbed2163d831"
            },
            "outputs": [
                {
                    "output_type": "display_data",
                    "data": {
                        "text/html": "(0 rows affected)"
                    },
                    "metadata": {}
                },
                {
                    "output_type": "display_data",
                    "data": {
                        "text/html": "Total execution time: 00:00:00.008"
                    },
                    "metadata": {}
                },
                {
                    "output_type": "execute_result",
                    "execution_count": 13,
                    "data": {
                        "application/vnd.dataresource+json": {
                            "schema": {
                                "fields": [
                                    {
                                        "name": "PrimaryKeyCol"
                                    },
                                    {
                                        "name": "FakeColumnOne"
                                    },
                                    {
                                        "name": "AnotherFakeColumn"
                                    },
                                    {
                                        "name": "YetAnotherColumn"
                                    }
                                ]
                            },
                            "data": []
                        },
                        "text/html": "<table><tr><th>PrimaryKeyCol</th><th>FakeColumnOne</th><th>AnotherFakeColumn</th><th>YetAnotherColumn</th></tr></table>"
                    },
                    "metadata": {}
                }
            ],
            "execution_count": 13
        },
        {
            "cell_type": "markdown",
            "source": [
                "8. Now we can clean up:"
            ],
            "metadata": {
                "azdata_cell_guid": "079820e6-0058-4390-859e-e64422d7aef9"
            }
        },
        {
            "cell_type": "code",
            "source": [
                "IF EXISTS (SELECT * FROM sys.objects WHERE name = 'NonexistingTable')\r\n",
                "DROP TABLE dbo.NonexistingTable;\r\n",
                "\r\n",
                "IF EXISTS (SELECT * FROM sys.synonyms WHERE name = 'NonexistingSynonym')\r\n",
                "DROP SYNONYM NonexistingSynonym;"
            ],
            "metadata": {
                "azdata_cell_guid": "fb9ef8f5-4dc3-419e-9e3e-2c84a3cebcbb",
                "tags": []
            },
            "outputs": [
                {
                    "output_type": "display_data",
                    "data": {
                        "text/html": "Commands completed successfully."
                    },
                    "metadata": {}
                },
                {
                    "output_type": "display_data",
                    "data": {
                        "text/html": "Total execution time: 00:00:00.048"
                    },
                    "metadata": {}
                }
            ],
            "execution_count": 14
        },
        {
            "cell_type": "markdown",
            "source": [
                "## Scenario Three:\r\n",
                "How does this behavior affect other related objects, like views and procedures? "
            ],
            "metadata": {
                "azdata_cell_guid": "2f910912-1c47-435a-911c-d6655f41c79c"
            }
        },
        {
            "cell_type": "markdown",
            "source": [
                "1. Let's make sure none of the objects exist first:"
            ],
            "metadata": {
                "azdata_cell_guid": "b62cca89-5366-4723-954f-1af2f27e539a"
            }
        },
        {
            "cell_type": "code",
            "source": [
                "IF EXISTS (SELECT * FROM sys.objects WHERE Name = 'TableStillNotHere')\r\n",
                "DROP TABLE TableStillNotHere\r\n",
                "IF EXISTS (SELECT * FROM sys.objects WHERE Name = 'vStillNotHere')\r\n",
                "DROP VIEW vStillNotHere\r\n",
                "IF EXISTS (SELECT * FROM sys.objects WHERE Name = 'pr_StillNotHere')\r\n",
                "DROP PROC pr_StillNotHere\r\n",
                "IF EXISTS (SELECT * FROM sys.synonyms WHERE name = 'StillNotHere')\r\n",
                "DROP SYNONYM StillNotHere\r\n",
                ""
            ],
            "metadata": {
                "azdata_cell_guid": "d3c33011-1bf8-45f8-a53d-c9d3fe5c564d"
            },
            "outputs": [
                {
                    "output_type": "display_data",
                    "data": {
                        "text/html": "Commands completed successfully."
                    },
                    "metadata": {}
                },
                {
                    "output_type": "display_data",
                    "data": {
                        "text/html": "Total execution time: 00:00:00.033"
                    },
                    "metadata": {}
                }
            ],
            "execution_count": 15
        },
        {
            "cell_type": "markdown",
            "source": [
                "2. Create the synonym for the non-existant table"
            ],
            "metadata": {
                "azdata_cell_guid": "e8707aa8-0395-4a6f-a870-b18c00633a2a"
            }
        },
        {
            "cell_type": "code",
            "source": [
                "CREATE SYNONYM StillNotHere for dbo.TableStillNotHere;"
            ],
            "metadata": {
                "azdata_cell_guid": "968c0f66-c65d-4c66-bf0a-243e6514005e"
            },
            "outputs": [
                {
                    "output_type": "display_data",
                    "data": {
                        "text/html": "Commands completed successfully."
                    },
                    "metadata": {}
                },
                {
                    "output_type": "display_data",
                    "data": {
                        "text/html": "Total execution time: 00:00:00.001"
                    },
                    "metadata": {}
                }
            ],
            "execution_count": 16
        },
        {
            "cell_type": "markdown",
            "source": [
                "3. Create the stored proc referencing the synonym:"
            ],
            "metadata": {
                "azdata_cell_guid": "01b734c1-f661-421b-a7eb-53604d163de6"
            }
        },
        {
            "cell_type": "code",
            "source": [
                "CREATE PROCEDURE pr_StillNotHere \r\n",
                "\t@FilterMe bit\r\n",
                "AS\r\n",
                "\tSELECT * \r\n",
                "\tFROM StillNotHere\r\n",
                "\tWHERE isDataProperlyFiltered = @FilterMe;\r\n",
                "GO"
            ],
            "metadata": {
                "azdata_cell_guid": "44d08c6f-f5ab-48f1-94a9-6a5a5a822150"
            },
            "outputs": [
                {
                    "output_type": "display_data",
                    "data": {
                        "text/html": "Commands completed successfully."
                    },
                    "metadata": {}
                },
                {
                    "output_type": "display_data",
                    "data": {
                        "text/html": "Total execution time: 00:00:00.004"
                    },
                    "metadata": {}
                }
            ],
            "execution_count": 17
        },
        {
            "cell_type": "markdown",
            "source": [
                "4. Create the veiw over the synonym:"
            ],
            "metadata": {
                "azdata_cell_guid": "a13c3c12-47d4-4265-8835-0dc71c80a070"
            }
        },
        {
            "cell_type": "code",
            "source": [
                "CREATE VIEW vStillNotHere\r\n",
                "AS \r\n",
                "SELECT *\r\n",
                "FROM StillNotHere\r\n",
                "WHERE isDataProperlyFiltered = 1;\r\n",
                "GO"
            ],
            "metadata": {
                "azdata_cell_guid": "d115b148-d065-4b34-976e-df23cf6edf76"
            },
            "outputs": [
                {
                    "output_type": "error",
                    "ename": "",
                    "evalue": "Msg 5313, Level 16, State 1, Procedure vStillNotHere, Line 4\r\nSynonym 'StillNotHere' refers to an invalid object.",
                    "traceback": []
                },
                {
                    "output_type": "display_data",
                    "data": {
                        "text/html": "Total execution time: 00:00:00.015"
                    },
                    "metadata": {}
                }
            ],
            "execution_count": 18
        },
        {
            "cell_type": "markdown",
            "source": [
                "5. Create the table so we can create the view:"
            ],
            "metadata": {
                "azdata_cell_guid": "1cca8ee9-a009-4aed-bf9f-4d1c3b7a90c9"
            }
        },
        {
            "cell_type": "code",
            "source": [
                "CREATE TABLE dbo.TableStillNotHere\r\n",
                "\t(ID\tint IDENTITY(1,1) NOT NULL\r\n",
                "\t\tCONSTRAINT PK_TableStillNotHere PRIMARY KEY CLUSTERED,\r\n",
                "\tisDataProperlyFiltered bit NOT NULL\r\n",
                "\t);\r\n",
                "GO"
            ],
            "metadata": {
                "azdata_cell_guid": "b706e82c-f3bb-452d-9659-8bf53dee5c49"
            },
            "outputs": [
                {
                    "output_type": "display_data",
                    "data": {
                        "text/html": "Commands completed successfully."
                    },
                    "metadata": {}
                },
                {
                    "output_type": "display_data",
                    "data": {
                        "text/html": "Total execution time: 00:00:00.004"
                    },
                    "metadata": {}
                }
            ],
            "execution_count": 19
        },
        {
            "cell_type": "markdown",
            "source": [
                "6. Now create the view:"
            ],
            "metadata": {
                "azdata_cell_guid": "12b66f4f-bc08-4d9c-9736-4575fae205b5"
            }
        },
        {
            "cell_type": "code",
            "source": [
                "CREATE VIEW vStillNotHere\r\n",
                "AS \r\n",
                "SELECT *\r\n",
                "FROM StillNotHere\r\n",
                "WHERE isDataProperlyFiltered = 1\r\n",
                "GO"
            ],
            "metadata": {
                "azdata_cell_guid": "c4bfc9dc-199c-4848-9b90-1fb57bce20e6"
            },
            "outputs": [
                {
                    "output_type": "display_data",
                    "data": {
                        "text/html": "Commands completed successfully."
                    },
                    "metadata": {}
                },
                {
                    "output_type": "display_data",
                    "data": {
                        "text/html": "Total execution time: 00:00:00.002"
                    },
                    "metadata": {}
                }
            ],
            "execution_count": 20
        },
        {
            "cell_type": "markdown",
            "source": [
                "7. Test the view by SELECTing from it:"
            ],
            "metadata": {
                "azdata_cell_guid": "d6300e94-c7ce-49f0-9e16-672ab2207797"
            }
        },
        {
            "cell_type": "code",
            "source": [
                "SELECT * FROM vStillNotHere;"
            ],
            "metadata": {
                "azdata_cell_guid": "95d52d90-3307-407c-8a49-168b4b03a21c"
            },
            "outputs": [
                {
                    "output_type": "display_data",
                    "data": {
                        "text/html": "(0 rows affected)"
                    },
                    "metadata": {}
                },
                {
                    "output_type": "display_data",
                    "data": {
                        "text/html": "Total execution time: 00:00:00.005"
                    },
                    "metadata": {}
                },
                {
                    "output_type": "execute_result",
                    "execution_count": 21,
                    "data": {
                        "application/vnd.dataresource+json": {
                            "schema": {
                                "fields": [
                                    {
                                        "name": "ID"
                                    },
                                    {
                                        "name": "isDataProperlyFiltered"
                                    }
                                ]
                            },
                            "data": []
                        },
                        "text/html": "<table><tr><th>ID</th><th>isDataProperlyFiltered</th></tr></table>"
                    },
                    "metadata": {}
                }
            ],
            "execution_count": 21
        },
        {
            "cell_type": "markdown",
            "source": [
                "8. Now let's modify the table to see what happens:"
            ],
            "metadata": {
                "azdata_cell_guid": "8fc0a1db-33bf-4681-9c40-91aa13c60cb1"
            }
        },
        {
            "cell_type": "code",
            "source": [
                "ALTER TABLE TableStillNotHere\r\n",
                "ADD NewColumn int ;\r\n",
                "GO"
            ],
            "metadata": {
                "azdata_cell_guid": "c05f84b6-6b3f-4737-a815-6faf2522ff21"
            },
            "outputs": [
                {
                    "output_type": "display_data",
                    "data": {
                        "text/html": "Commands completed successfully."
                    },
                    "metadata": {}
                },
                {
                    "output_type": "display_data",
                    "data": {
                        "text/html": "Total execution time: 00:00:00.005"
                    },
                    "metadata": {}
                }
            ],
            "execution_count": 22
        },
        {
            "cell_type": "markdown",
            "source": [
                "9. Is there a difference between the view and the table?"
            ],
            "metadata": {
                "azdata_cell_guid": "9af889b5-2e22-49bc-967f-77533f17ac13"
            }
        },
        {
            "cell_type": "code",
            "source": [
                "SELECT * FROM vStillNotHere;\r\n",
                "SELECT * FROM StillNotHere;\r\n",
                "GO"
            ],
            "metadata": {
                "azdata_cell_guid": "b581ece2-5c0b-4232-a9ee-0d180bc3d9ca"
            },
            "outputs": [
                {
                    "output_type": "display_data",
                    "data": {
                        "text/html": "(0 rows affected)"
                    },
                    "metadata": {}
                },
                {
                    "output_type": "display_data",
                    "data": {
                        "text/html": "(0 rows affected)"
                    },
                    "metadata": {}
                },
                {
                    "output_type": "display_data",
                    "data": {
                        "text/html": "Total execution time: 00:00:00.010"
                    },
                    "metadata": {}
                },
                {
                    "output_type": "execute_result",
                    "execution_count": 23,
                    "data": {
                        "application/vnd.dataresource+json": {
                            "schema": {
                                "fields": [
                                    {
                                        "name": "ID"
                                    },
                                    {
                                        "name": "isDataProperlyFiltered"
                                    }
                                ]
                            },
                            "data": []
                        },
                        "text/html": "<table><tr><th>ID</th><th>isDataProperlyFiltered</th></tr></table>"
                    },
                    "metadata": {}
                },
                {
                    "output_type": "execute_result",
                    "execution_count": 23,
                    "data": {
                        "application/vnd.dataresource+json": {
                            "schema": {
                                "fields": [
                                    {
                                        "name": "ID"
                                    },
                                    {
                                        "name": "isDataProperlyFiltered"
                                    },
                                    {
                                        "name": "NewColumn"
                                    }
                                ]
                            },
                            "data": []
                        },
                        "text/html": "<table><tr><th>ID</th><th>isDataProperlyFiltered</th><th>NewColumn</th></tr></table>"
                    },
                    "metadata": {}
                }
            ],
            "execution_count": 23
        },
        {
            "cell_type": "markdown",
            "source": [
                "10. Refresh the view and then redo your SELECT:"
            ],
            "metadata": {
                "azdata_cell_guid": "c61ad295-e68a-440a-9b02-3e0d0de0da80"
            }
        },
        {
            "cell_type": "code",
            "source": [
                "EXEC sp_refreshview vStillNotHere;\r\n",
                "GO\r\n",
                "\r\n",
                "SELECT * FROM vStillNotHere;\r\n",
                "GO"
            ],
            "metadata": {
                "azdata_cell_guid": "419e5d4f-9fa2-4477-830f-d70c74913a1a"
            },
            "outputs": [
                {
                    "output_type": "display_data",
                    "data": {
                        "text/html": "Commands completed successfully."
                    },
                    "metadata": {}
                },
                {
                    "output_type": "display_data",
                    "data": {
                        "text/html": "(0 rows affected)"
                    },
                    "metadata": {}
                },
                {
                    "output_type": "display_data",
                    "data": {
                        "text/html": "Total execution time: 00:00:00.036"
                    },
                    "metadata": {}
                },
                {
                    "output_type": "execute_result",
                    "execution_count": 24,
                    "data": {
                        "application/vnd.dataresource+json": {
                            "schema": {
                                "fields": [
                                    {
                                        "name": "ID"
                                    },
                                    {
                                        "name": "isDataProperlyFiltered"
                                    },
                                    {
                                        "name": "NewColumn"
                                    }
                                ]
                            },
                            "data": []
                        },
                        "text/html": "<table><tr><th>ID</th><th>isDataProperlyFiltered</th><th>NewColumn</th></tr></table>"
                    },
                    "metadata": {}
                }
            ],
            "execution_count": 24
        },
        {
            "cell_type": "markdown",
            "source": [
                "11. Let's modify that column to change the data type:"
            ],
            "metadata": {
                "azdata_cell_guid": "83c9ebf1-682d-4d77-9172-38e350a0af6b"
            }
        },
        {
            "cell_type": "code",
            "source": [
                "ALTER TABLE TableStillNotHere\r\n",
                "ALTER COLUMN NewColumn varchar(20);\r\n",
                "GO"
            ],
            "metadata": {
                "azdata_cell_guid": "84da4bb6-b0a9-4f8a-a2e6-7ac2775f8d95"
            },
            "outputs": [
                {
                    "output_type": "display_data",
                    "data": {
                        "text/html": "Commands completed successfully."
                    },
                    "metadata": {}
                },
                {
                    "output_type": "display_data",
                    "data": {
                        "text/html": "Total execution time: 00:00:00.012"
                    },
                    "metadata": {}
                }
            ],
            "execution_count": 25
        },
        {
            "cell_type": "markdown",
            "source": [
                "12. Now let's look at the meta data for the change:"
            ],
            "metadata": {
                "azdata_cell_guid": "13756ea6-b4a7-462b-8ced-da2c7cc77d91"
            }
        },
        {
            "cell_type": "code",
            "source": [
                "SELECT TABLE_NAME, COLUMN_NAME, DATA_TYPE \r\n",
                "FROM INFORMATION_SCHEMA.COLUMNS\r\n",
                "WHERE TABLE_NAME IN ('TableStillNotHere', 'vStillNotHere')\r\n",
                "AND COLUMN_NAME = 'NewColumn';"
            ],
            "metadata": {
                "azdata_cell_guid": "17ef7a12-0119-4846-ba63-28ce09cf1beb"
            },
            "outputs": [
                {
                    "output_type": "display_data",
                    "data": {
                        "text/html": "(2 rows affected)"
                    },
                    "metadata": {}
                },
                {
                    "output_type": "display_data",
                    "data": {
                        "text/html": "Total execution time: 00:00:00.060"
                    },
                    "metadata": {}
                },
                {
                    "output_type": "execute_result",
                    "execution_count": 26,
                    "data": {
                        "application/vnd.dataresource+json": {
                            "schema": {
                                "fields": [
                                    {
                                        "name": "TABLE_NAME"
                                    },
                                    {
                                        "name": "COLUMN_NAME"
                                    },
                                    {
                                        "name": "DATA_TYPE"
                                    }
                                ]
                            },
                            "data": [
                                {
                                    "0": "TableStillNotHere",
                                    "1": "NewColumn",
                                    "2": "varchar"
                                },
                                {
                                    "0": "vStillNotHere",
                                    "1": "NewColumn",
                                    "2": "int"
                                }
                            ]
                        },
                        "text/html": "<table><tr><th>TABLE_NAME</th><th>COLUMN_NAME</th><th>DATA_TYPE</th></tr><tr><td>TableStillNotHere</td><td>NewColumn</td><td>varchar</td></tr><tr><td>vStillNotHere</td><td>NewColumn</td><td>int</td></tr></table>"
                    },
                    "metadata": {}
                }
            ],
            "execution_count": 26
        },
        {
            "cell_type": "markdown",
            "source": [
                "13. What happens when we insert data:"
            ],
            "metadata": {
                "azdata_cell_guid": "ede88844-9bf9-4695-852f-ea724f233232"
            }
        },
        {
            "cell_type": "code",
            "source": [
                "INSERT INTO TableStillNotHere (isDataProperlyFiltered, NewColumn)\r\n",
                "VALUES (1, 'Varchar data');\r\n",
                "\r\n",
                "SELECT * FROM vStillNotHere;"
            ],
            "metadata": {
                "azdata_cell_guid": "bd6f57d1-f152-4579-8832-c8166e7e29c2"
            },
            "outputs": [
                {
                    "output_type": "display_data",
                    "data": {
                        "text/html": "(1 row affected)"
                    },
                    "metadata": {}
                },
                {
                    "output_type": "display_data",
                    "data": {
                        "text/html": "(1 row affected)"
                    },
                    "metadata": {}
                },
                {
                    "output_type": "display_data",
                    "data": {
                        "text/html": "Total execution time: 00:00:00.024"
                    },
                    "metadata": {}
                },
                {
                    "output_type": "execute_result",
                    "execution_count": 27,
                    "data": {
                        "application/vnd.dataresource+json": {
                            "schema": {
                                "fields": [
                                    {
                                        "name": "ID"
                                    },
                                    {
                                        "name": "isDataProperlyFiltered"
                                    },
                                    {
                                        "name": "NewColumn"
                                    }
                                ]
                            },
                            "data": [
                                {
                                    "0": "1",
                                    "1": "1",
                                    "2": "Varchar data"
                                }
                            ]
                        },
                        "text/html": "<table><tr><th>ID</th><th>isDataProperlyFiltered</th><th>NewColumn</th></tr><tr><td>1</td><td>1</td><td>Varchar data</td></tr></table>"
                    },
                    "metadata": {}
                }
            ],
            "execution_count": 27
        },
        {
            "cell_type": "markdown",
            "source": [
                "14. Now that we've cleared that up, let's clean up our test objects."
            ],
            "metadata": {
                "azdata_cell_guid": "d6c0cbbb-fac3-413c-ad8b-25cdd2a75fe7"
            }
        },
        {
            "cell_type": "code",
            "source": [
                "-- cleanup\r\n",
                "IF EXISTS (SELECT * FROM sys.objects WHERE Name = 'TableStillNotHere')\r\n",
                "DROP TABLE TableStillNotHere;\r\n",
                "\r\n",
                "IF EXISTS (SELECT * FROM sys.objects WHERE Name = 'vStillNotHere')\r\n",
                "DROP VIEW vStillNotHere;\r\n",
                "\r\n",
                "IF EXISTS (SELECT * FROM sys.objects WHERE Name = 'pr_StillNotHere')\r\n",
                "DROP PROC pr_StillNotHere;\r\n",
                "\r\n",
                "IF EXISTS (SELECT * FROM sys.synonyms WHERE name = 'StillNotHere')\r\n",
                "DROP SYNONYM StillNotHere;"
            ],
            "metadata": {
                "azdata_cell_guid": "50653b82-6f65-4442-8f18-b6e91d709f26"
            },
            "outputs": [
                {
                    "output_type": "display_data",
                    "data": {
                        "text/html": "Commands completed successfully."
                    },
                    "metadata": {}
                },
                {
                    "output_type": "display_data",
                    "data": {
                        "text/html": "Total execution time: 00:00:00.155"
                    },
                    "metadata": {}
                }
            ],
            "execution_count": 28
        }
    ]
}